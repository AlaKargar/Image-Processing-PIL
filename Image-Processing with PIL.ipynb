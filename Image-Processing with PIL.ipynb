{
 "cells": [
  {
   "cell_type": "code",
   "execution_count": 1,
   "id": "e3b722a0",
   "metadata": {},
   "outputs": [],
   "source": [
    "from PIL import Image, ImageFilter, ImageDraw, ImageFont\n",
    "from PIL.ImageFilter import CONTOUR, EDGE_ENHANCE, SMOOTH\n",
    "import numpy as np"
   ]
  },
  {
   "cell_type": "code",
   "execution_count": 2,
   "id": "3e80b09d",
   "metadata": {},
   "outputs": [],
   "source": [
    "img= Image.open('1.jpg')\n",
    "img.show()"
   ]
  },
  {
   "cell_type": "code",
   "execution_count": null,
   "id": "236a6dc7",
   "metadata": {},
   "outputs": [],
   "source": [
    "img_rotate = img.rotate(45)\n",
    "img_rotate.save('2.jpg')\n",
    "img_rotate.show()\n",
    "img"
   ]
  },
  {
   "cell_type": "code",
   "execution_count": 6,
   "id": "73905d1b",
   "metadata": {},
   "outputs": [],
   "source": [
    "r, g, b = img.split()\n",
    "img.show()\n",
    "r.show()\n",
    "g.show()\n",
    "b.show()\n",
    "\n",
    "new_img = Image.merge(\"RGB\", (b, r, g))\n",
    "new_img.show()\n",
    "new_img.save('15.png')"
   ]
  },
  {
   "cell_type": "code",
   "execution_count": 36,
   "id": "95f586df",
   "metadata": {},
   "outputs": [],
   "source": [
    "img_blur = img.filter(ImageFilter.BLUR)\n",
    "img_blur.show()\n",
    "img_blur.save('3.png')"
   ]
  },
  {
   "cell_type": "code",
   "execution_count": 3,
   "id": "9111ed06",
   "metadata": {},
   "outputs": [],
   "source": [
    "gaussian_blur_img = img.filter(ImageFilter.GaussianBlur(radius= 5))\n",
    "gaussian_blur_img.show()\n",
    "gaussian_blur_img.save(\"4.png\")"
   ]
  },
  {
   "cell_type": "code",
   "execution_count": 4,
   "id": "0bc674b9",
   "metadata": {},
   "outputs": [],
   "source": [
    "con_img = img.filter(CONTOUR)\n",
    "con_img.show()\n",
    "con_img.save(\"5.png\")"
   ]
  },
  {
   "cell_type": "code",
   "execution_count": 5,
   "id": "f9513a53",
   "metadata": {},
   "outputs": [],
   "source": [
    "edge_img = img.filter(EDGE_ENHANCE)\n",
    "edge_img.show()\n",
    "edge_img.save(\"6.png\")"
   ]
  },
  {
   "cell_type": "code",
   "execution_count": 6,
   "id": "ec467b54",
   "metadata": {},
   "outputs": [],
   "source": [
    "smooth_img = img.filter(SMOOTH)\n",
    "smooth_img.show()\n",
    "smooth_img.save(\"7.png\")"
   ]
  },
  {
   "cell_type": "code",
   "execution_count": 7,
   "id": "a610797a",
   "metadata": {},
   "outputs": [],
   "source": [
    "flipped_img = img.transpose(Image.FLIP_LEFT_RIGHT)\n",
    "flipped_img.show()\n",
    "flipped_img.save(\"8.png\")"
   ]
  },
  {
   "cell_type": "code",
   "execution_count": 26,
   "id": "ce1ac76f",
   "metadata": {},
   "outputs": [],
   "source": [
    "flipped_img2 = img.transpose(Image.FLIP_TOP_BOTTOM)\n",
    "flipped_img2.show()\n",
    "flipped_img2.save(\"9.png\")"
   ]
  },
  {
   "cell_type": "code",
   "execution_count": 10,
   "id": "ff0a1780",
   "metadata": {},
   "outputs": [],
   "source": [
    "imgBG= Image.new('RGB', (500, 300), (200, 200, 200))\n",
    "draw= ImageDraw.Draw(imgBG)"
   ]
  },
  {
   "cell_type": "code",
   "execution_count": 11,
   "id": "7bb2dcc1",
   "metadata": {},
   "outputs": [],
   "source": [
    "draw.rectangle((50, 50, 200, 150), fill=(255, 255, 255), outline= (0, 0, 0))\n",
    "draw.polygon(([(100, 50), (50, 200), (150, 200)]), fill=(0, 255, 0), outline=(0, 0, 255))\n",
    "imgBG.show()\n",
    "imgBG.save(\"10.png\")"
   ]
  },
  {
   "cell_type": "code",
   "execution_count": 19,
   "id": "899549b0",
   "metadata": {},
   "outputs": [],
   "source": [
    "img2= Image.open('1.jpg')\n",
    "\n",
    "waterMark= ImageDraw.Draw(img2)\n",
    "\n",
    "#font= ImageFont.truetype('arial.tff',36)\n",
    "\n",
    "font= ImageFont.load_default()\n",
    "width, height= img2.size\n",
    "x= width/2\n",
    "y= height/2\n",
    "\n",
    "text= 'Duck Duck Duck Duck'\n",
    "waterMark.text((x, y), text, fill=(255, 255, 00), font= font)\n",
    "\n",
    "img2.show()\n",
    "img2.save('11.png')"
   ]
  },
  {
   "cell_type": "code",
   "execution_count": 21,
   "id": "a5176acb",
   "metadata": {},
   "outputs": [
    {
     "name": "stdout",
     "output_type": "stream",
     "text": [
      "[[[179 217 168]\n",
      "  [179 217 168]\n",
      "  [179 217 168]\n",
      "  ...\n",
      "  [179 217 168]\n",
      "  [179 217 168]\n",
      "  [179 217 168]]\n",
      "\n",
      " [[179 217 168]\n",
      "  [179 217 168]\n",
      "  [179 217 168]\n",
      "  ...\n",
      "  [179 217 168]\n",
      "  [179 217 168]\n",
      "  [179 217 168]]\n",
      "\n",
      " [[179 217 168]\n",
      "  [179 217 168]\n",
      "  [179 217 168]\n",
      "  ...\n",
      "  [179 217 168]\n",
      "  [179 217 168]\n",
      "  [179 217 168]]\n",
      "\n",
      " ...\n",
      "\n",
      " [[179 217 168]\n",
      "  [179 217 168]\n",
      "  [179 217 168]\n",
      "  ...\n",
      "  [179 217 168]\n",
      "  [179 217 168]\n",
      "  [179 217 168]]\n",
      "\n",
      " [[179 217 168]\n",
      "  [179 217 168]\n",
      "  [179 217 168]\n",
      "  ...\n",
      "  [179 217 168]\n",
      "  [179 217 168]\n",
      "  [179 217 168]]\n",
      "\n",
      " [[179 217 168]\n",
      "  [179 217 168]\n",
      "  [179 217 168]\n",
      "  ...\n",
      "  [179 217 168]\n",
      "  [179 217 168]\n",
      "  [179 217 168]]]\n"
     ]
    }
   ],
   "source": [
    "grayscale_img= img.convert('RGB')\n",
    "\n",
    "matrix= np.array(grayscale_img)\n",
    "print(matrix)"
   ]
  },
  {
   "cell_type": "code",
   "execution_count": 22,
   "id": "87f88a7e",
   "metadata": {},
   "outputs": [],
   "source": [
    "brighter= np.clip(matrix+ 50, 0, 255)\n",
    "darker= np.clip(matrix- 50, 0, 255)"
   ]
  },
  {
   "cell_type": "code",
   "execution_count": 23,
   "id": "1d0056d0",
   "metadata": {},
   "outputs": [],
   "source": [
    "brightimg= Image.fromarray(brighter.astype('uint8'))\n",
    "brightimg.show()\n",
    "brightimg.save('13.png')\n"
   ]
  },
  {
   "cell_type": "code",
   "execution_count": 24,
   "id": "c397eb4f",
   "metadata": {},
   "outputs": [],
   "source": [
    "darkimg= Image.fromarray(darker.astype('uint8'))\n",
    "darkimg.show()\n",
    "darkimg.save('12.png')"
   ]
  },
  {
   "cell_type": "code",
   "execution_count": null,
   "id": "5f40c84f",
   "metadata": {},
   "outputs": [],
   "source": [
    "randomarray= np.random.randint(0, 256, (256, 256, 3), dtype= np.uint8)\n",
    "\n",
    "grayimg= Image.fromarray(randomarray, mode= 'RGB')\n",
    "grayimg.show()\n"
   ]
  },
  {
   "cell_type": "code",
   "execution_count": 27,
   "id": "7f773d68",
   "metadata": {},
   "outputs": [],
   "source": [
    "def salt_pepper_noise(img, saltProb=0.02, pepperProb=0.02):\n",
    "\n",
    "    imgArray = np.asarray(img)\n",
    "    noisyArray = imgArray.copy()\n",
    "    totalPix = imgArray.shape[0] * imgArray.shape[1]\n",
    "\n",
    "    numSalt = int(saltProb * totalPix) \n",
    "    coords_salt = [np.random.randint(0, i - 1, numSalt) for i in imgArray.shape[:2]]  \n",
    "    \n",
    "    noisyArray[coords_salt[0], coords_salt[1]] = 255  \n",
    "\n",
    "    numPepper = int(pepperProb * totalPix)  \n",
    "    coords_pepper = [np.random.randint(0, i - 1, numPepper) for i in imgArray.shape[:2]]  \n",
    "\n",
    "    noisyArray[coords_pepper[0], coords_pepper[1]] = 0  \n",
    "    noisyImg = Image.fromarray(noisyArray.astype(np.uint8))  \n",
    "\n",
    "    return noisyImg\n",
    "\n",
    "\n",
    "img = Image.open('1.jpg').convert('L')\n",
    "\n",
    "\n",
    "img2 = salt_pepper_noise(img)\n",
    "img2.show()\n",
    "img2.save('14.jpg')"
   ]
  },
  {
   "cell_type": "code",
   "execution_count": 12,
   "id": "255d57dd",
   "metadata": {},
   "outputs": [
    {
     "name": "stdout",
     "output_type": "stream",
     "text": [
      "[[200 192 206 ... 207 200 200]\n",
      " [210 207 206 ... 192 200 200]\n",
      " [196 189   0 ... 208 200 200]\n",
      " ...\n",
      " [216 206 199 ... 216 200 200]\n",
      " [225 210 198 ... 225 200 200]\n",
      " [215 204 196 ... 215 200 200]]\n"
     ]
    }
   ],
   "source": [
    "noise_img= Image.open('14.jpg')\n",
    "noise_img.show()\n",
    "\n",
    "matrix= np.array(noise_img).astype('int')\n",
    "print(matrix)\n",
    "\n",
    "for i in range(1, matrix.shape[0]-1):\n",
    "    for j in range(1, matrix.shape[1]-1):\n",
    "        window = [\n",
    "            matrix[i-1][j-1], matrix[i-1][j], matrix[i-1][j+1],\n",
    "            matrix[i][j-1],   matrix[i][j],   matrix[i][j+1],\n",
    "            matrix[i+1][j-1], matrix[i+1][j], matrix[i+1][j+1]\n",
    "        ]\n",
    "        window.sort()\n",
    "        matrix[i]= window[4]\n",
    "matrix= matrix.astype('uint8')\n",
    "\n",
    "matrix= Image.fromarray(matrix)\n",
    "matrix.show()"
   ]
  }
 ],
 "metadata": {
  "kernelspec": {
   "display_name": "Python 3",
   "language": "python",
   "name": "python3"
  },
  "language_info": {
   "codemirror_mode": {
    "name": "ipython",
    "version": 3
   },
   "file_extension": ".py",
   "mimetype": "text/x-python",
   "name": "python",
   "nbconvert_exporter": "python",
   "pygments_lexer": "ipython3",
   "version": "3.12.4"
  }
 },
 "nbformat": 4,
 "nbformat_minor": 5
}
